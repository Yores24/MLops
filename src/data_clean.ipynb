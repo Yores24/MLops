{
 "cells": [
  {
   "cell_type": "code",
   "execution_count": 1,
   "metadata": {},
   "outputs": [
    {
     "ename": "ModuleNotFoundError",
     "evalue": "No module named 'sklearn'",
     "output_type": "error",
     "traceback": [
      "\u001b[1;31m---------------------------------------------------------------------------\u001b[0m",
      "\u001b[1;31mModuleNotFoundError\u001b[0m                       Traceback (most recent call last)",
      "Cell \u001b[1;32mIn[1], line 6\u001b[0m\n\u001b[0;32m      4\u001b[0m \u001b[38;5;28;01mimport\u001b[39;00m \u001b[38;5;21;01mnumpy\u001b[39;00m \u001b[38;5;28;01mas\u001b[39;00m \u001b[38;5;21;01mnp\u001b[39;00m\n\u001b[0;32m      5\u001b[0m \u001b[38;5;28;01mimport\u001b[39;00m \u001b[38;5;21;01mpandas\u001b[39;00m \u001b[38;5;28;01mas\u001b[39;00m \u001b[38;5;21;01mpd\u001b[39;00m\n\u001b[1;32m----> 6\u001b[0m \u001b[38;5;28;01mfrom\u001b[39;00m \u001b[38;5;21;01msklearn\u001b[39;00m\u001b[38;5;21;01m.\u001b[39;00m\u001b[38;5;21;01mmodel_selection\u001b[39;00m \u001b[38;5;28;01mimport\u001b[39;00m train_test_split\n",
      "\u001b[1;31mModuleNotFoundError\u001b[0m: No module named 'sklearn'"
     ]
    }
   ],
   "source": [
    "import logging\n",
    "from abc import ABC, abstractmethod\n",
    "from typing import Union\n",
    "import numpy as np\n",
    "import pandas as pd\n",
    "from sklearn.model_selection import train_test_split"
   ]
  },
  {
   "cell_type": "code",
   "execution_count": 6,
   "metadata": {},
   "outputs": [],
   "source": [
    "class DataStrategy(ABC):\n",
    "    \"\"\"\n",
    "    Abstract class degining strategy for handling data\n",
    "    \"\"\"\n",
    "\n",
    "    @abstractmethod\n",
    "    def handle_data(self,data:pd.DataFrame)->Union[pd.DataFrame,pd.Series]:\n",
    "        pass"
   ]
  },
  {
   "cell_type": "code",
   "execution_count": 5,
   "metadata": {},
   "outputs": [],
   "source": [
    "from pandas import DataFrame\n",
    "\n",
    "\n",
    "class DataPreProcessing(DataStrategy):\n",
    "\n",
    "    \"\"\"\n",
    "    Strategy to preprocess data\n",
    "    \"\"\"\n",
    "\n",
    "    def handle_data(self, data: DataFrame) -> DataFrame:\n",
    "        \n",
    "        try:\n",
    "            data=data.drop(\n",
    "                [\n",
    "                    \"order_approved_at\",\n",
    "                    \"order_delivered_carrier_data\",\n",
    "                    \"order_delivered_customer_data\",\n",
    "                    \"order_estimated_delivery_data\",\n",
    "                    \"order_purchase_timestamp\",\n",
    "                ],\n",
    "                axis=1\n",
    "            )\n",
    "            data['product_weight_g'].fillna(data['product_weight_g'].median(),inplace=True)\n",
    "            data['product_length_cm'].fillna(data['product_length_cm'].median(),inplace=True)\n",
    "            data['product_height_cm'].fillna(data['product_height_cm'].median(),inplace=True)\n",
    "            data['product_width_cm'].fillna(data['product_width'].median(),inplace=True)\n",
    "            data['review_comment_message'].fillna(\"No review\",inplace=True)\n",
    "            data=data.select_dtypes(include=[np.number])\n",
    "            data=data.drop(\n",
    "                [\n",
    "                    \"customer_zip_code_prefix\",\n",
    "                    \"order_item_id\",\n",
    "                ]\n",
    "            ,axis=1)\n",
    "            return data\n",
    "        except Exception as e:\n",
    "\n",
    "            logging.error(\"error in the preprocessing of data: {}\".format(e))\n",
    "            raise e\n",
    "            "
   ]
  },
  {
   "cell_type": "code",
   "execution_count": 8,
   "metadata": {},
   "outputs": [],
   "source": [
    "from pandas.core.api import DataFrame as DataFrame, Series as Series\n",
    "\n",
    "\n",
    "class Datadivide(DataStrategy):\n",
    "\n",
    "    \"\"\"\n",
    "Divide data in train and test\n",
    "\"\"\"\n",
    "\n",
    "    def handle_data(self, data: DataFrame) -> DataFrame | Series:\n",
    "        try:\n",
    "            X=data.drop(['review_score'],axis=1)\n",
    "            y=data['review_score']\n",
    "            X_train,X_test,y_train,y_test=train_test_split(X,y,test_size=0.3,random_state=42)\n",
    "            return X_train,X_test,y_train,y_test\n",
    "        except Exception as e:\n",
    "            logging.error(\"Error in dividing: {}\".format(e))\n",
    "            raise e\n",
    "        "
   ]
  },
  {
   "cell_type": "code",
   "execution_count": 9,
   "metadata": {},
   "outputs": [],
   "source": [
    "class DataClean:\n",
    "\n",
    "    def __init__(self,data:pd.DataFrame,strategy:DataStrategy):\n",
    "        self.data=data\n",
    "        self.strategy=strategy\n",
    "\n",
    "    def handle_data(self)->Union[pd.DataFrame,pd.Series]:\n",
    "\n",
    "        try:\n",
    "            return self.strategy.handle_data(self.data)\n",
    "        except Exception as e:\n",
    "            logging.error(\"Error in handling data {}\".format(e))\n",
    "            raise e\n",
    "        "
   ]
  },
  {
   "cell_type": "code",
   "execution_count": null,
   "metadata": {},
   "outputs": [],
   "source": []
  }
 ],
 "metadata": {
  "kernelspec": {
   "display_name": "customer",
   "language": "python",
   "name": "python3"
  },
  "language_info": {
   "codemirror_mode": {
    "name": "ipython",
    "version": 3
   },
   "file_extension": ".py",
   "mimetype": "text/x-python",
   "name": "python",
   "nbconvert_exporter": "python",
   "pygments_lexer": "ipython3",
   "version": "3.10.11"
  }
 },
 "nbformat": 4,
 "nbformat_minor": 2
}
